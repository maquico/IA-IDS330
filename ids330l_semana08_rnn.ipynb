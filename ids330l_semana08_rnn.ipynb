{
  "nbformat": 4,
  "nbformat_minor": 0,
  "metadata": {
    "colab": {
      "provenance": [],
      "gpuType": "T4",
      "include_colab_link": true
    },
    "kernelspec": {
      "name": "python3",
      "display_name": "Python 3"
    },
    "language_info": {
      "name": "python"
    },
    "accelerator": "GPU"
  },
  "cells": [
    {
      "cell_type": "markdown",
      "metadata": {
        "id": "view-in-github",
        "colab_type": "text"
      },
      "source": [
        "<a href=\"https://colab.research.google.com/github/maquico/IA-IDS330/blob/main/ids330l_semana08_rnn.ipynb\" target=\"_parent\"><img src=\"https://colab.research.google.com/assets/colab-badge.svg\" alt=\"Open In Colab\"/></a>"
      ]
    },
    {
      "cell_type": "markdown",
      "source": [
        "# IDS330 | Redes Recurrentes"
      ],
      "metadata": {
        "id": "T8_KZNWr3gYw"
      }
    },
    {
      "cell_type": "code",
      "execution_count": null,
      "metadata": {
        "id": "W6l6p8DEzKqO"
      },
      "outputs": [],
      "source": [
        "import torch"
      ]
    },
    {
      "cell_type": "markdown",
      "source": [
        "En Pytorch, las capas de RNN se definen con el paquete `torch.nn.RNN`.\n",
        "\n",
        "https://pytorch.org/docs/stable/generated/torch.nn.RNN.html\n",
        "\n",
        "**Parametros**\n",
        "* input_size: el numero de features en la entrada x\n",
        "* hidden_size: la dimension del estado oculto *h*\n",
        "* num_layers: numero de capas recurrentes\n",
        "* bidirectional: (bool) si `True`, la red es bidirectional\n",
        "* batch_first; (bool) si `True`, el input y el output tendran una dimension `(batch_size, seq_len, feature_size)`\n",
        "\n",
        "**Input**\n",
        "* input: dimension de `(batch_size, seq_len, feature_size)`, si `batch_first = True`\n",
        "* h0: tensor que contiene el estado oculto inicial. Su dimension es de `(num_layers * num_directions, batch_size, hidden_size)`\n",
        "\n",
        "**Output**\n",
        "* output: tensor que contiene los *features* de la ultima capa de la RNN. Tiene dimension de `(batch_size, seq_len, feature_size)`, si `batch_first = True`\n",
        "* hn: tensor que contiene el estado oculto final. Su dimension es de `(num_layers * num_directions, batch_size, hidden_size)`"
      ],
      "metadata": {
        "id": "rhEbebxo5D_G"
      }
    },
    {
      "cell_type": "code",
      "source": [
        "## RNN de una sola capa\n",
        "# input_size = 5\n",
        "# seq_len = 10\n",
        "# hidden_size = 2\n",
        "\n",
        "x = torch.rand(1, 10, 5)  # (batch_size, seq_len, feature_size)\n",
        "h0 = torch.rand(1, 1, 2)\n",
        "rnn = torch.nn.RNN(input_size=5, hidden_size=2, num_layers=1, bidirectional=False, batch_first=True)\n",
        "output, h_n = rnn(x, h0)\n"
      ],
      "metadata": {
        "id": "sLzlncci7WVk"
      },
      "execution_count": null,
      "outputs": []
    },
    {
      "cell_type": "code",
      "source": [
        "## RNN de una sola capa\n",
        "# num_layers = 2\n",
        "# bidirectional = True\n",
        "# input_size = 5\n",
        "# seq_len = 10\n",
        "# hidden_size = 2\n",
        "\n",
        "x = torch.rand(1, 10, 5)  # (batch_size, seq_len, feature_size)\n",
        "h0 = torch.rand(2*2, 1, 2)\n",
        "rnn = torch.nn.RNN(input_size=5, hidden_size=2, num_layers=2, bidirectional=True, batch_first=True)\n",
        "output, h_n = rnn(x, h0)"
      ],
      "metadata": {
        "id": "r1J_vra973h_"
      },
      "execution_count": null,
      "outputs": []
    },
    {
      "cell_type": "markdown",
      "source": [
        "## Descargar la data"
      ],
      "metadata": {
        "id": "CHsg2oza9IWG"
      }
    },
    {
      "cell_type": "code",
      "source": [
        "!pip install datasets"
      ],
      "metadata": {
        "colab": {
          "base_uri": "https://localhost:8080/"
        },
        "id": "1rsu_RrB81eE",
        "outputId": "26a68f6c-b300-4214-8d6c-2be394a64428"
      },
      "execution_count": null,
      "outputs": [
        {
          "output_type": "stream",
          "name": "stdout",
          "text": [
            "Collecting datasets\n",
            "  Downloading datasets-2.18.0-py3-none-any.whl (510 kB)\n",
            "\u001b[2K     \u001b[90m━━━━━━━━━━━━━━━━━━━━━━━━━━━━━━━━━━━━━━━━\u001b[0m \u001b[32m510.5/510.5 kB\u001b[0m \u001b[31m11.4 MB/s\u001b[0m eta \u001b[36m0:00:00\u001b[0m\n",
            "\u001b[?25hRequirement already satisfied: filelock in /usr/local/lib/python3.10/dist-packages (from datasets) (3.13.1)\n",
            "Requirement already satisfied: numpy>=1.17 in /usr/local/lib/python3.10/dist-packages (from datasets) (1.25.2)\n",
            "Requirement already satisfied: pyarrow>=12.0.0 in /usr/local/lib/python3.10/dist-packages (from datasets) (14.0.2)\n",
            "Requirement already satisfied: pyarrow-hotfix in /usr/local/lib/python3.10/dist-packages (from datasets) (0.6)\n",
            "Collecting dill<0.3.9,>=0.3.0 (from datasets)\n",
            "  Downloading dill-0.3.8-py3-none-any.whl (116 kB)\n",
            "\u001b[2K     \u001b[90m━━━━━━━━━━━━━━━━━━━━━━━━━━━━━━━━━━━━━━━━\u001b[0m \u001b[32m116.3/116.3 kB\u001b[0m \u001b[31m15.9 MB/s\u001b[0m eta \u001b[36m0:00:00\u001b[0m\n",
            "\u001b[?25hRequirement already satisfied: pandas in /usr/local/lib/python3.10/dist-packages (from datasets) (1.5.3)\n",
            "Requirement already satisfied: requests>=2.19.0 in /usr/local/lib/python3.10/dist-packages (from datasets) (2.31.0)\n",
            "Requirement already satisfied: tqdm>=4.62.1 in /usr/local/lib/python3.10/dist-packages (from datasets) (4.66.2)\n",
            "Collecting xxhash (from datasets)\n",
            "  Downloading xxhash-3.4.1-cp310-cp310-manylinux_2_17_x86_64.manylinux2014_x86_64.whl (194 kB)\n",
            "\u001b[2K     \u001b[90m━━━━━━━━━━━━━━━━━━━━━━━━━━━━━━━━━━━━━━━━\u001b[0m \u001b[32m194.1/194.1 kB\u001b[0m \u001b[31m24.3 MB/s\u001b[0m eta \u001b[36m0:00:00\u001b[0m\n",
            "\u001b[?25hCollecting multiprocess (from datasets)\n",
            "  Downloading multiprocess-0.70.16-py310-none-any.whl (134 kB)\n",
            "\u001b[2K     \u001b[90m━━━━━━━━━━━━━━━━━━━━━━━━━━━━━━━━━━━━━━━━\u001b[0m \u001b[32m134.8/134.8 kB\u001b[0m \u001b[31m19.5 MB/s\u001b[0m eta \u001b[36m0:00:00\u001b[0m\n",
            "\u001b[?25hRequirement already satisfied: fsspec[http]<=2024.2.0,>=2023.1.0 in /usr/local/lib/python3.10/dist-packages (from datasets) (2023.6.0)\n",
            "Requirement already satisfied: aiohttp in /usr/local/lib/python3.10/dist-packages (from datasets) (3.9.3)\n",
            "Requirement already satisfied: huggingface-hub>=0.19.4 in /usr/local/lib/python3.10/dist-packages (from datasets) (0.21.4)\n",
            "Requirement already satisfied: packaging in /usr/local/lib/python3.10/dist-packages (from datasets) (24.0)\n",
            "Requirement already satisfied: pyyaml>=5.1 in /usr/local/lib/python3.10/dist-packages (from datasets) (6.0.1)\n",
            "Requirement already satisfied: aiosignal>=1.1.2 in /usr/local/lib/python3.10/dist-packages (from aiohttp->datasets) (1.3.1)\n",
            "Requirement already satisfied: attrs>=17.3.0 in /usr/local/lib/python3.10/dist-packages (from aiohttp->datasets) (23.2.0)\n",
            "Requirement already satisfied: frozenlist>=1.1.1 in /usr/local/lib/python3.10/dist-packages (from aiohttp->datasets) (1.4.1)\n",
            "Requirement already satisfied: multidict<7.0,>=4.5 in /usr/local/lib/python3.10/dist-packages (from aiohttp->datasets) (6.0.5)\n",
            "Requirement already satisfied: yarl<2.0,>=1.0 in /usr/local/lib/python3.10/dist-packages (from aiohttp->datasets) (1.9.4)\n",
            "Requirement already satisfied: async-timeout<5.0,>=4.0 in /usr/local/lib/python3.10/dist-packages (from aiohttp->datasets) (4.0.3)\n",
            "Requirement already satisfied: typing-extensions>=3.7.4.3 in /usr/local/lib/python3.10/dist-packages (from huggingface-hub>=0.19.4->datasets) (4.10.0)\n",
            "Requirement already satisfied: charset-normalizer<4,>=2 in /usr/local/lib/python3.10/dist-packages (from requests>=2.19.0->datasets) (3.3.2)\n",
            "Requirement already satisfied: idna<4,>=2.5 in /usr/local/lib/python3.10/dist-packages (from requests>=2.19.0->datasets) (3.6)\n",
            "Requirement already satisfied: urllib3<3,>=1.21.1 in /usr/local/lib/python3.10/dist-packages (from requests>=2.19.0->datasets) (2.0.7)\n",
            "Requirement already satisfied: certifi>=2017.4.17 in /usr/local/lib/python3.10/dist-packages (from requests>=2.19.0->datasets) (2024.2.2)\n",
            "Requirement already satisfied: python-dateutil>=2.8.1 in /usr/local/lib/python3.10/dist-packages (from pandas->datasets) (2.8.2)\n",
            "Requirement already satisfied: pytz>=2020.1 in /usr/local/lib/python3.10/dist-packages (from pandas->datasets) (2023.4)\n",
            "Requirement already satisfied: six>=1.5 in /usr/local/lib/python3.10/dist-packages (from python-dateutil>=2.8.1->pandas->datasets) (1.16.0)\n",
            "Installing collected packages: xxhash, dill, multiprocess, datasets\n",
            "Successfully installed datasets-2.18.0 dill-0.3.8 multiprocess-0.70.16 xxhash-3.4.1\n"
          ]
        }
      ]
    },
    {
      "cell_type": "code",
      "source": [
        "from datasets import load_dataset\n",
        "dataset = load_dataset(\"5cp/imdb_review_prompts\", trust_remote_code=True)"
      ],
      "metadata": {
        "id": "MNBST5dz9PwC"
      },
      "execution_count": null,
      "outputs": []
    },
    {
      "cell_type": "code",
      "source": [
        "train_texts = dataset['train']['text']\n",
        "train_labels = dataset['train']['label']\n",
        "test_texts = dataset['test']['text']\n",
        "test_labels = dataset['test']['label']"
      ],
      "metadata": {
        "id": "dfLX470--Isq"
      },
      "execution_count": null,
      "outputs": []
    },
    {
      "cell_type": "code",
      "source": [
        "train_texts = [text.split('###')[2].replace('Review: ', '') for text in train_texts]\n",
        "test_texts = [text.split('###')[2].replace('Review: ', '') for text in test_texts]\n"
      ],
      "metadata": {
        "id": "Amu14MbW_ILb"
      },
      "execution_count": null,
      "outputs": []
    },
    {
      "cell_type": "code",
      "source": [],
      "metadata": {
        "id": "WgXUP7YDEo-L"
      },
      "execution_count": null,
      "outputs": []
    },
    {
      "cell_type": "markdown",
      "source": [
        "## Preprocesamiento"
      ],
      "metadata": {
        "id": "LkxCsthNA7-7"
      }
    },
    {
      "cell_type": "code",
      "source": [
        "from string import punctuation\n",
        "from collections import Counter\n",
        "import numpy as np\n",
        "\n",
        "\n",
        "\n",
        "train_reviews = [review.lower() for review in train_texts]\n",
        "test_reviews = [review.lower() for review in test_texts]\n",
        "train_reviews = [''.join([c for c in review if c not in punctuation]) for review in train_reviews]\n",
        "test_reviews = [''.join([c for c in review if c not in punctuation]) for review in test_reviews]\n",
        "\n",
        "all_texts = ' '.join(train_reviews + test_reviews)\n",
        "words = all_texts.split()\n",
        "count_words = Counter(words)\n",
        "sorted_words = count_words.most_common(len(words))\n",
        "vocab_to_int = {word:i+1 for i, (word,c) in enumerate(sorted_words)}\n",
        "\n"
      ],
      "metadata": {
        "id": "IG2pJ4qg_WxD"
      },
      "execution_count": null,
      "outputs": []
    },
    {
      "cell_type": "code",
      "source": [
        "train_labels = np.array(train_labels)\n",
        "test_labels = np.array(test_labels)"
      ],
      "metadata": {
        "id": "NNfDOjZeAFti"
      },
      "execution_count": null,
      "outputs": []
    },
    {
      "cell_type": "code",
      "source": [
        "train_reviews_int = []\n",
        "for review in train_reviews:\n",
        "    r = [vocab_to_int[word] for word in review.split()]\n",
        "    train_reviews_int.append(r)\n",
        "\n",
        "test_reviews_int = []\n",
        "for review in test_reviews:\n",
        "    r = [vocab_to_int[word] for word in review.split()]\n",
        "    test_reviews_int.append(r)\n"
      ],
      "metadata": {
        "id": "H8HEI7RvFUlb"
      },
      "execution_count": null,
      "outputs": []
    },
    {
      "cell_type": "code",
      "source": [
        "def pad_sequence(reviews_int: list, seq_len: int) -> np.array:\n",
        "\n",
        "    features = np.zeros((len(reviews_int), seq_len), dtype=int)\n",
        "\n",
        "    for i, review in enumerate(reviews_int):\n",
        "        review_len = len(review)\n",
        "\n",
        "        if review_len <= seq_len:\n",
        "            zeroes = list(np.zeros(seq_len - review_len))\n",
        "            new_review = zeroes + review\n",
        "        else:\n",
        "            new_review = review[:seq_len]\n",
        "        features[i,:] = np.array(new_review)\n",
        "\n",
        "    return features\n"
      ],
      "metadata": {
        "id": "3DUI5TJZFrps"
      },
      "execution_count": null,
      "outputs": []
    },
    {
      "cell_type": "code",
      "source": [
        "padded_train_reviews = pad_sequence(train_reviews_int, 100)\n",
        "padded_test_reviews = pad_sequence(test_reviews_int, 100)"
      ],
      "metadata": {
        "id": "ezAXU4Q0F1Pj"
      },
      "execution_count": null,
      "outputs": []
    },
    {
      "cell_type": "markdown",
      "source": [
        "## Cargar como Dataset"
      ],
      "metadata": {
        "id": "Q8YUQnfuH344"
      }
    },
    {
      "cell_type": "code",
      "source": [
        "from torch.utils.data import TensorDataset, DataLoader\n",
        "\n",
        "batch_size = 64\n",
        "\n",
        "train_data = TensorDataset(torch.from_numpy(padded_train_reviews), torch.from_numpy(train_labels))\n",
        "test_data = TensorDataset(torch.from_numpy(padded_test_reviews), torch.from_numpy(test_labels))\n",
        "\n",
        "train_loader = DataLoader(train_data, batch_size=batch_size, shuffle=True)\n",
        "test_loader = DataLoader(test_data, batch_size=batch_size, shuffle=False)\n",
        "\n"
      ],
      "metadata": {
        "id": "T-UyKcbyHyBE"
      },
      "execution_count": null,
      "outputs": []
    },
    {
      "cell_type": "code",
      "source": [
        "# Check the data\n",
        "batch = next(iter(train_loader))\n",
        "x, y = batch\n",
        "\n",
        "print(\"Input size:\", x.size())\n",
        "print(\"Input:\", x)\n",
        "\n",
        "print(\"Output size:\", y.size())\n",
        "print(\"Output:\", y)\n"
      ],
      "metadata": {
        "colab": {
          "base_uri": "https://localhost:8080/"
        },
        "id": "aYAqQvaXI_V0",
        "outputId": "6ad4b462-c696-45bc-fe0c-80e99593b3aa"
      },
      "execution_count": null,
      "outputs": [
        {
          "output_type": "stream",
          "name": "stdout",
          "text": [
            "Input size: torch.Size([64, 100])\n",
            "Input: tensor([[   0,    0,    0,  ...,   92,   49,   46],\n",
            "        [   0,    0,    0,  ...,  139,    2,  178],\n",
            "        [   0,    0,    0,  ...,   18,   35,  985],\n",
            "        ...,\n",
            "        [   0,    0,    0,  ...,   21, 4947, 4948],\n",
            "        [   0,    0,    0,  ...,  289,   17,  497],\n",
            "        [   0,    0,    0,  ..., 5382,   43, 5383]])\n",
            "Output size: torch.Size([64])\n",
            "Output: tensor([0, 1, 1, 1, 1, 1, 1, 0, 0, 1, 0, 1, 1, 1, 1, 0, 0, 0, 0, 0, 0, 1, 1, 0,\n",
            "        1, 1, 0, 1, 1, 1, 0, 1, 1, 0, 1, 1, 1, 0, 1, 0, 0, 1, 0, 1, 0, 1, 0, 1,\n",
            "        0, 0, 1, 1, 1, 1, 1, 0, 1, 0, 0, 0, 0, 1, 0, 1])\n"
          ]
        }
      ]
    },
    {
      "cell_type": "markdown",
      "source": [
        "## Definir Red Recurrente"
      ],
      "metadata": {
        "id": "KUG833PUKBkG"
      }
    },
    {
      "cell_type": "code",
      "source": [
        "torch.nn.LSTM(x, (h0, c0))"
      ],
      "metadata": {
        "id": "V95NMlPeUS6k"
      },
      "execution_count": null,
      "outputs": []
    },
    {
      "cell_type": "code",
      "source": [
        "class SentimentAnalysis(torch.nn.Module):\n",
        "    def __init__(self, vocab_size: int, embedding_dim: int, output_size: int, hidden_dim: int, num_layers: int):\n",
        "        super().__init__()\n",
        "\n",
        "        self.num_layers = num_layers\n",
        "        self.hidden_dim = hidden_dim\n",
        "        self.output_size = output_size\n",
        "\n",
        "        self.embedding = torch.nn.Embedding(\n",
        "            vocab_size,\n",
        "            embedding_dim,\n",
        "            padding_idx = 0)\n",
        "\n",
        "        self.rnn = torch.nn.RNN(\n",
        "            embedding_dim,\n",
        "            hidden_dim,\n",
        "            num_layers,\n",
        "            batch_first=True)\n",
        "\n",
        "        self.linear = torch.nn.Linear(hidden_dim, output_size)\n",
        "        self.sigmoid = torch.nn.Sigmoid()\n",
        "\n",
        "    def forward(self, x, h0):\n",
        "        embeddings = self.embedding(x)\n",
        "        output, h_n = self.rnn(embeddings, h0)\n",
        "        output = self.linear(output[:,-1,:])\n",
        "        output = self.sigmoid(output)\n",
        "        return output\n",
        "\n"
      ],
      "metadata": {
        "id": "RA6Yr766JTyL"
      },
      "execution_count": null,
      "outputs": []
    },
    {
      "cell_type": "markdown",
      "source": [
        "## Entrenamiento"
      ],
      "metadata": {
        "id": "sHUWjFMUM3yL"
      }
    },
    {
      "cell_type": "code",
      "source": [
        "vocab_size = len(vocab_to_int) + 1   # +1 por el padding '0'\n",
        "output_size = 1\n",
        "\n",
        "### PUEDEN CAMBIAR ###\n",
        "embedding_dim = 100\n",
        "hidden_dim = 128\n",
        "num_layers = 1\n",
        "######################\n",
        "\n",
        "model = SentimentAnalysis(\n",
        "    vocab_size=vocab_size,\n",
        "    embedding_dim=embedding_dim,\n",
        "    output_size=output_size,\n",
        "    hidden_dim=hidden_dim,\n",
        "    num_layers=num_layers)\n",
        "\n",
        "learning_rate = 0.01\n",
        "num_epochs = 10\n",
        "\n",
        "loss_function = torch.nn.BCELoss()\n",
        "\n",
        "optimizer = torch.optim.Adam(model.parameters(), lr=learning_rate)\n",
        "\n",
        "model.cuda()\n",
        "\n",
        "losses = []\n",
        "accuracies = []\n",
        "for epoch in range(num_epochs):\n",
        "    for inputs, labels in train_loader:\n",
        "        inputs = inputs.cuda()\n",
        "        labels = labels.cuda()\n",
        "\n",
        "        batch_size = inputs.size(0)\n",
        "        h0 = torch.randn(num_layers*1, batch_size, hidden_dim)\n",
        "        h0 = h0.cuda()\n",
        "\n",
        "        outputs = model(inputs, h0)\n",
        "\n",
        "        loss = loss_function(outputs.squeeze(), labels.float())\n",
        "        optimizer.zero_grad()\n",
        "        loss.backward()\n",
        "        optimizer.step()\n",
        "\n",
        "        pred = (outputs.squeeze() > 0.5).float()\n",
        "        acc = torch.mean((pred == labels).float())\n",
        "\n",
        "        losses.append(loss.item())\n",
        "        accuracies.append(acc.item())\n",
        "\n"
      ],
      "metadata": {
        "id": "fVLXp-tyM2Sk"
      },
      "execution_count": null,
      "outputs": []
    },
    {
      "cell_type": "code",
      "source": [
        "import matplotlib.pyplot as plt\n",
        "\n",
        "plt.plot(losses, 'b')\n",
        "plt.plot(accuracies, 'r')\n",
        "plt.show()"
      ],
      "metadata": {
        "colab": {
          "base_uri": "https://localhost:8080/",
          "height": 430
        },
        "id": "bUTW1Gg_P6ft",
        "outputId": "5b1d8a8a-30a3-46a6-f495-c292fd45e9d1"
      },
      "execution_count": null,
      "outputs": [
        {
          "output_type": "display_data",
          "data": {
            "text/plain": [
              "<Figure size 640x480 with 1 Axes>"
            ],
            "image/png": "[encoded data removed]"
          },
          "metadata": {}
        }
      ]
    },
    {
      "cell_type": "code",
      "source": [
        "model.eval()\n",
        "accuracy = 0\n",
        "total_inputs = 0\n",
        "with torch.no_grad():\n",
        "    for inputs, labels in test_loader:\n",
        "        inputs = inputs.cuda()\n",
        "        labels = labels.cuda()\n",
        "\n",
        "        batch_size = inputs.size(0)\n",
        "        h0 = torch.randn(num_layers*1, batch_size, hidden_dim)\n",
        "        h0 = h0.cuda()\n",
        "\n",
        "        outputs = model(inputs, h0)\n",
        "\n",
        "        pred = (outputs.squeeze() > 0.5).float()\n",
        "        acc = torch.sum((pred == labels).float())\n",
        "        total_inputs += inputs.size(0)\n",
        "        accuracy += acc.item()\n",
        "\n",
        "print(f\"Accuracy: {100*accuracy/total_inputs:.2f}%\")"
      ],
      "metadata": {
        "colab": {
          "base_uri": "https://localhost:8080/"
        },
        "id": "ZM3C97V7QUhs",
        "outputId": "9021c089-7ef5-44d0-e614-8a3daded56ac"
      },
      "execution_count": null,
      "outputs": [
        {
          "output_type": "stream",
          "name": "stdout",
          "text": [
            "Accuracy: 60.49%\n"
          ]
        }
      ]
    },
    {
      "cell_type": "code",
      "source": [
        "import random\n",
        "\n",
        "def int_to_voc(val, my_dict):\n",
        "    for key, value in my_dict.items():\n",
        "        if val == value:\n",
        "            return key\n",
        "model.cpu()\n",
        "review, label = random.choice(train_data)\n",
        "review_sentence = ' '.join([int_to_voc(r, vocab_to_int) for r in review if r != 0])\n",
        "print(review_sentence)\n",
        "\n",
        "print(\"Actual label:\", 'negative' if label.item() == 0 else 'positive')\n",
        "\n",
        "h0 = torch.randn(num_layers*1, 1, hidden_dim)\n",
        "output = model(review.unsqueeze(0), h0)\n",
        "sentiment = 'negative' if output <= 0.5 else 'positive'\n",
        "print(\"Pred Sentiment:\", sentiment)\n",
        "\n"
      ],
      "metadata": {
        "colab": {
          "base_uri": "https://localhost:8080/"
        },
        "id": "RFVOBCvqQ9x0",
        "outputId": "abd34068-0641-4483-de0d-60d45eee73e0"
      },
      "execution_count": null,
      "outputs": [
        {
          "output_type": "stream",
          "name": "stdout",
          "text": [
            "i was particularly moved by the understated courage and integrity of langlaise in this beautifully acted intellectually and visually compelling film thank you so much monsieur le directeur rohmer\n",
            "Actual label: positive\n",
            "Pred Sentiment: positive\n"
          ]
        }
      ]
    },
    {
      "cell_type": "code",
      "source": [],
      "metadata": {
        "id": "ykEpkooqSJgt"
      },
      "execution_count": null,
      "outputs": []
    }
  ]
}