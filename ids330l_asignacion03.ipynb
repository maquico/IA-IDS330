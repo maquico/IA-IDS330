{
  "nbformat": 4,
  "nbformat_minor": 0,
  "metadata": {
    "colab": {
      "provenance": [],
      "include_colab_link": true
    },
    "kernelspec": {
      "name": "python3",
      "display_name": "Python 3"
    },
    "language_info": {
      "name": "python"
    }
  },
  "cells": [
    {
      "cell_type": "markdown",
      "metadata": {
        "id": "view-in-github",
        "colab_type": "text"
      },
      "source": [
        "<a href=\"https://colab.research.google.com/github/maquico/IA-IDS330/blob/main/ids330l_asignacion03.ipynb\" target=\"_parent\"><img src=\"https://colab.research.google.com/assets/colab-badge.svg\" alt=\"Open In Colab\"/></a>"
      ]
    },
    {
      "cell_type": "markdown",
      "source": [
        "# IDS330 | Asignación 03\n",
        "\n",
        "**Objetivo**: Desarrollar una red neuronal densa para clasificar imagenes del dataset CIFAR10 con una precisión de al menos 40%.\n",
        "\n",
        "**¿Cómo lo hago?**: *Pueden lograrlo como deseen*, pero pueden cambiar algunos de estos hiperparametros:\n",
        "* Tamaño de la red (cantidad de capas o cantidad de neuronas por capas)\n",
        "* Taza de aprendizaje (`learning rate`)\n",
        "* Tamaño del mini-batch (`batch_size`)\n",
        "* Cantidad de iteraciones (`epochs`)"
      ],
      "metadata": {
        "id": "qMSw_YNVQILH"
      }
    },
    {
      "cell_type": "code",
      "execution_count": null,
      "metadata": {
        "id": "cZtiCZ3WP2gd"
      },
      "outputs": [],
      "source": [
        "from keras.datasets import cifar10\n",
        "import numpy as np\n",
        "import matplotlib.pyplot as plt\n",
        "\n",
        "(x_train, y_train), (x_test, y_test) = cifar10.load_data()\n",
        "labels = [\"airplane\", 'auto', 'bird', 'cat', 'deer',\n",
        "          'dog', 'frog', 'horse', 'ship', 'truck']"
      ]
    },
    {
      "cell_type": "code",
      "source": [
        "print(f\"x_train: {x_train.shape}\")\n",
        "print(f\"y_train: {y_train.shape}\")\n",
        "print(f\"x_test: {x_test.shape}\")\n",
        "print(f\"y_test: {y_test.shape}\")"
      ],
      "metadata": {
        "id": "7czqyN2iRE-O"
      },
      "execution_count": null,
      "outputs": []
    },
    {
      "cell_type": "code",
      "source": [
        "n = 16\n",
        "fig, axs = plt.subplots(nrows=4, ncols=4, figsize=(6,6))\n",
        "axs = axs.ravel()\n",
        "for i in range(16):\n",
        "    axs[i].imshow(x_train[i])\n",
        "    label = labels[y_train[i][0]]\n",
        "    axs[i].set_title(label)\n",
        "    axs[i].axis('off')\n",
        "plt.tight_layout()\n",
        "plt.show()"
      ],
      "metadata": {
        "id": "0RLSAvlZRNqO"
      },
      "execution_count": null,
      "outputs": []
    },
    {
      "cell_type": "code",
      "source": [
        "# Incrementar el numero de capas\n",
        "# Incrementar numero de neuronas en capas ocultas\n",
        "\n",
        "class NeuralNetwork(torch.nn.Module):\n",
        "    def __init__(self):\n",
        "        super().__init__()\n",
        "\n",
        "        self.linear = torch.nn.Sequential(\n",
        "            torch.nn.Linear(32*32*3, 128),\n",
        "            torch.nn.Sigmoid(),\n",
        "            torch.nn.Linear(128, 10),\n",
        "            torch.nn.Sigmoid(),\n",
        "        )\n",
        "\n",
        "    def forward(self, x):\n",
        "        x = x.reshape(-1, int(32*32*3))\n",
        "        x = torch.tensor(x).float()\n",
        "        return self.linear(x)\n"
      ],
      "metadata": {
        "id": "dHtTUg4yROs8"
      },
      "execution_count": null,
      "outputs": []
    },
    {
      "cell_type": "code",
      "source": [
        "# Pueden jugar con los hiperparametros (learning rate, epochs, batch_size)\n",
        "######\n",
        "lr = 0.001\n",
        "epochs = 10\n",
        "batch_size = 64\n",
        "######\n",
        "\n",
        "device = \"cuda\" if torch.cuda.is_available() else 'cpu'\n",
        "\n",
        "# Definiendo el modelo\n",
        "model = NeuralNetwork()\n",
        "\n",
        "loss_func = torch.nn.CrossEntropyLoss()\n",
        "optimizer = torch.optim.SGD(model.parameters(), lr=lr)\n",
        "\n",
        "errors = []\n",
        "\n",
        "# cuando queremos entrenar, debemos poner el modelo en modo entrenamiento\n",
        "model.train()\n",
        "model.cuda()\n",
        "\n",
        "for i in range(epochs):\n",
        "    error_per_batch = []\n",
        "    for batch in range(x_train.shape[0]//batch_size - 1):\n",
        "\n",
        "        # Batch\n",
        "        start = batch * batch_size\n",
        "        end = (batch+1) * batch_size\n",
        "        x = x_train[start:end] # x_train[0:64], x_train[64:128], ...\n",
        "        y = y_train[start:end]\n",
        "\n",
        "        x = torch.tensor(x).float()\n",
        "        y = torch.tensor(y).long()\n",
        "        y = y.squeeze()\n",
        "\n",
        "        x = x.to(device)  # x.cuda()\n",
        "        y = y.to(device)  #\n",
        "\n",
        "        optimizer.zero_grad()\n",
        "        output = model(x)\n",
        "        loss = loss_func(output, y)\n",
        "        loss.backward()  # propagar el error\n",
        "        optimizer.step() # actualizar los parametros\n",
        "\n",
        "        error_per_batch.append(loss.item())\n",
        "    errors.append(np.mean(error_per_batch))"
      ],
      "metadata": {
        "id": "QNja6D6JRPhY"
      },
      "execution_count": null,
      "outputs": []
    },
    {
      "cell_type": "code",
      "source": [
        "n = 16\n",
        "fig, axs = plt.subplots(nrows=4, ncols=4, figsize=(10,10))\n",
        "axs = axs.ravel()\n",
        "for i in range(n):\n",
        "    x = x_train[i]\n",
        "\n",
        "    # feedfoward\n",
        "    x = torch.tensor(x).float()\n",
        "    output = model(x.cuda())\n",
        "    prob, preds = torch.max(output, axis=1)\n",
        "\n",
        "    label = labels[preds.item()]\n",
        "\n",
        "    axs[i].imshow(x_train[i], cmap='gray')\n",
        "    axs[i].set_title(f\"Pred: {label}, prob: {prob.item():.2f}\")\n",
        "    axs[i].axis('off')\n",
        "plt.tight_layout()\n",
        "plt.show()"
      ],
      "metadata": {
        "id": "wn2xDzsaRW3o"
      },
      "execution_count": null,
      "outputs": []
    },
    {
      "cell_type": "code",
      "source": [
        "# cuando queremos entrenar, debemos poner el modelo en modo entrenamiento\n",
        "model.eval()\n",
        "accs=  []\n",
        "with torch.no_grad():\n",
        "    for batch in range(x_test.shape[0]//batch_size - 1):\n",
        "\n",
        "        # Batch\n",
        "        start = batch * batch_size\n",
        "        end = (batch+1) * batch_size\n",
        "        x = x_test[start:end] # x_train[0:64], x_train[64:128], ...\n",
        "        y = y_test[start:end]\n",
        "\n",
        "        x = torch.tensor(x).float()\n",
        "        y = torch.tensor(y).long()\n",
        "        x = x.cuda()\n",
        "        y = y.cuda()\n",
        "        y = y.squeeze()\n",
        "\n",
        "        output = model(x)\n",
        "\n",
        "        prob, preds = torch.max(output, axis=1)\n",
        "        accuracy = torch.sum(y == preds) / y.shape[0]\n",
        "        accs.append(accuracy.item())"
      ],
      "metadata": {
        "id": "pf2TMiInRRIi"
      },
      "execution_count": null,
      "outputs": []
    },
    {
      "cell_type": "code",
      "source": [
        "print(f\"Accuracy: {np.mean(accs)*100:.2f}%\")"
      ],
      "metadata": {
        "id": "TUGNGEO8Ra8e"
      },
      "execution_count": null,
      "outputs": []
    }
  ]
}